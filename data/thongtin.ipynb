{
 "cells": [
  {
   "cell_type": "code",
   "execution_count": 1,
   "id": "743914c70d2be096",
   "metadata": {
    "jupyter": {
     "is_executing": true
    }
   },
   "outputs": [
    {
     "ename": "SyntaxError",
     "evalue": "invalid syntax (2239309454.py, line 1)",
     "output_type": "error",
     "traceback": [
      "\u001b[0;36m  Cell \u001b[0;32mIn[1], line 1\u001b[0;36m\u001b[0m\n\u001b[0;31m    docker compose up --build\u001b[0m\n\u001b[0m           ^\u001b[0m\n\u001b[0;31mSyntaxError\u001b[0m\u001b[0;31m:\u001b[0m invalid syntax\n"
     ]
    }
   ],
   "source": [
    "docker compose up --build"
   ]
  },
  {
   "cell_type": "code",
   "execution_count": 2,
   "id": "419b8be8",
   "metadata": {},
   "outputs": [
    {
     "name": "stdout",
     "output_type": "stream",
     "text": [
      "Hello\n"
     ]
    }
   ],
   "source": [
    "print(\"Hello\")"
   ]
  },
  {
   "cell_type": "markdown",
   "id": "6a83f250",
   "metadata": {},
   "source": []
  },
  {
   "cell_type": "code",
   "execution_count": 2,
   "id": "96bab53b699c7b79",
   "metadata": {
    "ExecuteTime": {
     "end_time": "2024-11-29T02:54:28.565430Z",
     "start_time": "2024-11-29T02:54:28.525046Z"
    }
   },
   "outputs": [
    {
     "name": "stdout",
     "output_type": "stream",
     "text": [
      "Chạy lệnh Docker sau:\n",
      "docker run -p 8000:3000 -e MILVUS_URL=172.24.0.1:19530 zilliz/attu:v2.4\n",
      "172.24.0.1\n"
     ]
    }
   ],
   "source": [
    "import subprocess\n",
    "import re\n",
    "\n",
    "# Chạy lệnh 'ipconfig' để lấy thông tin IP\n",
    "result = subprocess.run(['ipconfig'], capture_output=True, text=True)\n",
    "output = result.stdout\n",
    "\n",
    "# Dùng biểu thức chính quy để tìm IPv4 của \"Wireless LAN adapter Wi-Fi\"\n",
    "match = re.search(r'Wireless LAN adapter Wi-Fi:(.*?)(IPv4 Address.*?)\\s*(\\d+\\.\\d+\\.\\d+\\.\\d+)', output, re.DOTALL)\n",
    "\n",
    "# Nếu tìm thấy địa chỉ IPv4, thay vào câu lệnh Docker\n",
    "if match:\n",
    "    milvus_ip = match.group(3)\n",
    "    docker_command = f\"docker run -p 8000:3000 -e MILVUS_URL={milvus_ip}:19530 zilliz/attu:v2.4\"\n",
    "    print(f\"Chạy lệnh Docker sau:\\n{docker_command}\")\n",
    "    print(milvus_ip)\n",
    "else:\n",
    "    print(\"Không tìm thấy địa chỉ IPv4 cho Wireless LAN adapter Wi-Fi.\")\n",
    "\n"
   ]
  },
  {
   "cell_type": "code",
   "execution_count": null,
   "id": "8e73d167",
   "metadata": {},
   "outputs": [],
   "source": [
    "docker run -p 8000:3000 -e MILVUS_URL=192.168.1.21:19530 zilliz/attu:v2.4"
   ]
  },
  {
   "cell_type": "code",
   "execution_count": 7,
   "id": "3f1cc618",
   "metadata": {},
   "outputs": [
    {
     "name": "stdout",
     "output_type": "stream",
     "text": [
      "Chạy lệnh Docker sau:\n",
      "sudo docker run -d -p 8000:3000 -e MILVUS_URL=103.155.161.196:19530 zilliz/attu:v2.4\n",
      "103.155.161.196\n"
     ]
    }
   ],
   "source": [
    "import subprocess\n",
    "import re\n",
    "\n",
    "# Chạy lệnh 'ip a' để lấy thông tin mạng\n",
    "result = subprocess.run(['ip', 'a'], capture_output=True, text=True)\n",
    "output = result.stdout\n",
    "\n",
    "# Dùng regex để tìm IPv4 của interface Wi-Fi (thường là wlan0)\n",
    "match = re.search(r'inet\\s+(\\d+\\.\\d+\\.\\d+\\.\\d+)/\\d+\\s+brd', output)\n",
    "\n",
    "# Nếu tìm thấy địa chỉ IPv4, thay vào câu lệnh Docker\n",
    "if match:\n",
    "    milvus_ip = match.group(1)\n",
    "    docker_command = f\"sudo docker run -d -p 8000:3000 -e MILVUS_URL={milvus_ip}:19530 zilliz/attu:v2.4\"\n",
    "    print(f\"Chạy lệnh Docker sau:\\n{docker_command}\")\n",
    "    print(milvus_ip)\n",
    "else:\n",
    "    print(\"Không tìm thấy địa chỉ IPv4 cho Wi-Fi.\")\n"
   ]
  },
  {
   "cell_type": "code",
   "execution_count": null,
   "id": "2734a546",
   "metadata": {},
   "outputs": [],
   "source": []
  },
  {
   "cell_type": "code",
   "execution_count": null,
   "id": "f07ee8e1",
   "metadata": {},
   "outputs": [],
   "source": [
    "sudo docker compose up --build -d"
   ]
  },
  {
   "cell_type": "code",
   "execution_count": null,
   "id": "2745412a",
   "metadata": {},
   "outputs": [],
   "source": [
    "192.168.160.1:19530"
   ]
  },
  {
   "cell_type": "code",
   "execution_count": null,
   "id": "9135ed48",
   "metadata": {},
   "outputs": [],
   "source": [
    "streamlit run chatbot/src/app.py"
   ]
  }
 ],
 "metadata": {
  "kernelspec": {
   "display_name": "Python 3",
   "language": "python",
   "name": "python3"
  },
  "language_info": {
   "codemirror_mode": {
    "name": "ipython",
    "version": 3
   },
   "file_extension": ".py",
   "mimetype": "text/x-python",
   "name": "python",
   "nbconvert_exporter": "python",
   "pygments_lexer": "ipython3",
   "version": "3.12.6"
  }
 },
 "nbformat": 4,
 "nbformat_minor": 5
}
